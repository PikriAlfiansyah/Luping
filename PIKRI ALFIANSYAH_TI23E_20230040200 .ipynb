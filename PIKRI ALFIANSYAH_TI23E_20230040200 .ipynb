{
 "cells": [
  {
   "cell_type": "code",
   "execution_count": 8,
   "id": "ef596813",
   "metadata": {},
   "outputs": [
    {
     "name": "stdout",
     "output_type": "stream",
     "text": [
      "1\n",
      "2\n",
      "3\n",
      "4\n",
      "5\n",
      "6\n",
      "7\n",
      "8\n",
      "9\n",
      "10\n"
     ]
    }
   ],
   "source": [
    "# For in range \n",
    "# Print 1 - 10\n",
    "\n",
    "for i in range (1,11):\n",
    "    print(i)"
   ]
  },
  {
   "cell_type": "code",
   "execution_count": 10,
   "id": "facc4de2",
   "metadata": {},
   "outputs": [
    {
     "name": "stdout",
     "output_type": "stream",
     "text": [
      "10\n",
      "20\n",
      "30\n",
      "40\n",
      "50\n",
      "60\n",
      "70\n",
      "80\n",
      "90\n",
      "100\n"
     ]
    }
   ],
   "source": [
    "#print10 20 30 40 50 --- 100\n",
    "for i in range (1,11):\n",
    "    print (i*10)"
   ]
  },
  {
   "cell_type": "code",
   "execution_count": 11,
   "id": "3eb2cc0c",
   "metadata": {},
   "outputs": [
    {
     "name": "stdout",
     "output_type": "stream",
     "text": [
      "10\n",
      "20\n",
      "30\n",
      "40\n",
      "50\n",
      "60\n",
      "70\n",
      "80\n",
      "90\n",
      "100\n"
     ]
    }
   ],
   "source": [
    "for i in range(10,110,10):\n",
    "    print(i)"
   ]
  },
  {
   "cell_type": "code",
   "execution_count": 12,
   "id": "54a854a7",
   "metadata": {},
   "outputs": [
    {
     "name": "stdout",
     "output_type": "stream",
     "text": [
      "10\n",
      "9\n",
      "8\n",
      "7\n",
      "6\n",
      "5\n",
      "4\n",
      "3\n",
      "2\n",
      "1\n"
     ]
    }
   ],
   "source": [
    "# 10 9 8 7 --- 1\n",
    "\n",
    "for i in range (10,0,-1):\n",
    "    \n",
    "    print(i)"
   ]
  },
  {
   "cell_type": "code",
   "execution_count": 1,
   "id": "3c4ba80f",
   "metadata": {},
   "outputs": [
    {
     "name": "stdout",
     "output_type": "stream",
     "text": [
      "1\n",
      "-2\n",
      "3\n",
      "-4\n",
      "5\n",
      "-6\n",
      "7\n",
      "-8\n",
      "9\n",
      "-10\n"
     ]
    }
   ],
   "source": [
    "# 1 -2 3 -4 5 -6 7 -8 9 -10\n",
    "sign = 1\n",
    "for i in range (1,11):\n",
    "    print (i * sign)\n",
    "    sign *= -1 "
   ]
  },
  {
   "cell_type": "code",
   "execution_count": null,
   "id": "a1b2bde4",
   "metadata": {},
   "outputs": [],
   "source": [
    "# Faktorial => input 4! = 4 * 3 * 2 * 1 = 24\n",
    "\n",
    "number = int(input('Isikan Bilangan'))\n",
    "\n",
    "result = 1\n",
    "for i in range(1,number+1):\n",
    "    result = result * i\n",
    "    \n",
    "print (f\"Faktorial dari {number}! adalah {result}\")"
   ]
  },
  {
   "cell_type": "code",
   "execution_count": 4,
   "id": "f62602ab",
   "metadata": {},
   "outputs": [
    {
     "name": "stdout",
     "output_type": "stream",
     "text": [
      "Isikan Bliangan:5\n",
      "Isikan Pangkat:7\n",
      "5 pangkat 7 = 5\n",
      "5 pangkat 7 = 25\n",
      "5 pangkat 7 = 125\n",
      "5 pangkat 7 = 625\n",
      "5 pangkat 7 = 3125\n",
      "5 pangkat 7 = 15625\n",
      "5 pangkat 7 = 78125\n"
     ]
    }
   ],
   "source": [
    "number = int(input('Isikan Bliangan:'))\n",
    "pangkat = int(input('Isikan Pangkat:'))\n",
    "\n",
    "result = 1\n",
    "for i in range(1, pangkat+1):\n",
    "    result*= number\n",
    "    print(f\"{number} pangkat {pangkat} = {result}\")"
   ]
  },
  {
   "cell_type": "code",
   "execution_count": 5,
   "id": "a169ea1f",
   "metadata": {},
   "outputs": [
    {
     "name": "stdout",
     "output_type": "stream",
     "text": [
      "isikan bilangan5\n",
      "5 adalah bilangan prima\n"
     ]
    }
   ],
   "source": [
    "#cek bilangan prima\n",
    "#bilangan prima adalah bilangan yang hanya habs dibagi dengan bil itu \n",
    "#sendiri dan 1\n",
    "\n",
    "#bilangan prima punya 2 faktor\n",
    "# Jika number % i == 0 maka nilai faktor di increment(+1)\n",
    "#setelah selesai perulangan, jika faktor ==2 maka bilangan prima\n",
    "number = int(input('isikan bilangan'))\n",
    "faktor = 0\n",
    "for i in range(1,number+1):\n",
    "    sisa = number % i \n",
    "    if number % i == 0:\n",
    "        faktor = faktor + 1\n",
    "        \n",
    "if faktor == 2:        \n",
    "    print(f\"{number} adalah bilangan prima\")\n",
    "else:\n",
    "    print(f\"{number} adalah bilangan bukan prima\")"
   ]
  },
  {
   "cell_type": "code",
   "execution_count": 2,
   "id": "717b0e23",
   "metadata": {},
   "outputs": [
    {
     "name": "stdout",
     "output_type": "stream",
     "text": [
      "22\n",
      "0 U\n",
      "1 n\n",
      "2 i\n",
      "3 v\n",
      "4 e\n",
      "5 r\n",
      "6 s\n",
      "7 i\n",
      "8 t\n",
      "9 a\n",
      "10 s\n",
      "11  \n",
      "12 N\n",
      "13 u\n",
      "14 s\n",
      "15 a\n",
      "16  \n",
      "17 P\n",
      "18 u\n",
      "19 t\n",
      "20 r\n",
      "21 a\n"
     ]
    }
   ],
   "source": [
    "kampus = \"Universitas Nusa Putra\" #panjang = 22\n",
    "print(len(kampus))\n",
    "\n",
    "for i,huruf in enumerate(kampus):\n",
    "    print (i,huruf)"
   ]
  },
  {
   "cell_type": "code",
   "execution_count": 9,
   "id": "d6da3b67",
   "metadata": {},
   "outputs": [
    {
     "name": "stdout",
     "output_type": "stream",
     "text": [
      "jumlah huruf a:3\n",
      "jumlah huruf i:2\n",
      "jumlah huruf u:2\n",
      "jumlah huruf e:1\n",
      "jumlah huruf o:0\n",
      "jumlah huruf vokal:8\n"
     ]
    }
   ],
   "source": [
    "# menghitung jumlah huruf vokal \n",
    "\n",
    "Kampus = \"Universitas Nusa Putra\"\n",
    "panjang = len(kampus)\n",
    "\n",
    "vokal_a = 0\n",
    "vokal_i = 0\n",
    "vokal_u = 0\n",
    "vokal_e = 0\n",
    "vokal_o = 0\n",
    "\n",
    "for i in range(0,panjang):\n",
    "    if kampus [i]=='a':\n",
    "        vokal_a +=1\n",
    "    elif kampus[i]=='i':\n",
    "         vokal_i +=1\n",
    "    elif kampus[i]=='u':\n",
    "         vokal_u +=1\n",
    "    elif kampus[i]=='e':\n",
    "         vokal_e +=1\n",
    "    elif kampus[i]=='o':\n",
    "         vokal_o +=1\n",
    "\n",
    "print(f\"jumlah huruf a:{vokal_a}\")\n",
    "print(f\"jumlah huruf i:{vokal_i}\")\n",
    "print(f\"jumlah huruf u:{vokal_u}\")\n",
    "print(f\"jumlah huruf e:{vokal_e}\")\n",
    "print(f\"jumlah huruf o:{vokal_o}\")\n",
    "print(f\"jumlah huruf vokal:{vokal_a + vokal_i + vokal_u + vokal_e + vokal_o }\")"
   ]
  },
  {
   "cell_type": "code",
   "execution_count": 7,
   "id": "106c51e7",
   "metadata": {},
   "outputs": [
    {
     "name": "stdout",
     "output_type": "stream",
     "text": [
      "Isikan KJalimatpak mari pulang\n",
      "{kalimat} adalah bukan palindrome\n",
      "Apakah kamu Ingin Pulang:Betul\n",
      "Yauda Ayo:Gasssssssssssssssssssssssssssssssssssssssssssssssssssssss\n"
     ]
    }
   ],
   "source": [
    "ulang = \"Y\"\n",
    "while(ulang==\"Y\"):\n",
    "    kalimat = input('Isikan KJalimat')\n",
    "    panjang_kalimat = len(kalimat)\n",
    "\n",
    "    isPalindrome = True\n",
    "    for i in range(0, panjang_kalimat):\n",
    "        urut = kalimat[i]\n",
    "        kebalikan = kalimat[panjang_kalimat - i-1]\n",
    "        if urut != kebalikan:\n",
    "            ispalindrome = False\n",
    "            break\n",
    "\n",
    "    if ispalindrome==True:\n",
    "        print(f\"{kalimat} adalah palindrome\")\n",
    "    else:\n",
    "        print(\"{kalimat} adalah bukan palindrome\")\n",
    "    ulang = input('Apakah kamu Ingin Pulang:')\n",
    "    ulang = input('Yauda Ayo:')"
   ]
  },
  {
   "cell_type": "code",
   "execution_count": 9,
   "id": "10391e4f",
   "metadata": {},
   "outputs": [
    {
     "name": "stdout",
     "output_type": "stream",
     "text": [
      "i 1 dan j 1\n",
      "i 1 dan j 2\n",
      "i 1 dan j 3\n",
      "i 1 dan j 4\n",
      "i 2 dan j 1\n",
      "i 2 dan j 2\n",
      "i 2 dan j 3\n",
      "i 2 dan j 4\n",
      "i 3 dan j 1\n",
      "i 3 dan j 2\n",
      "i 3 dan j 3\n",
      "i 3 dan j 4\n",
      "i 4 dan j 1\n",
      "i 4 dan j 2\n",
      "i 4 dan j 3\n",
      "i 4 dan j 4\n"
     ]
    }
   ],
   "source": [
    "# Nested for\n",
    "\n",
    "for i in range(1,5):\n",
    "    for j in range(1,5):\n",
    "        print(f\"i {i} dan j {j}\")"
   ]
  },
  {
   "cell_type": "code",
   "execution_count": null,
   "id": "0797d024",
   "metadata": {},
   "outputs": [],
   "source": []
  }
 ],
 "metadata": {
  "kernelspec": {
   "display_name": "Python 3 (ipykernel)",
   "language": "python",
   "name": "python3"
  },
  "language_info": {
   "codemirror_mode": {
    "name": "ipython",
    "version": 3
   },
   "file_extension": ".py",
   "mimetype": "text/x-python",
   "name": "python",
   "nbconvert_exporter": "python",
   "pygments_lexer": "ipython3",
   "version": "3.9.12"
  }
 },
 "nbformat": 4,
 "nbformat_minor": 5
}
